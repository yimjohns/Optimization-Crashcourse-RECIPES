{
  "nbformat": 4,
  "nbformat_minor": 0,
  "metadata": {
    "colab": {
      "provenance": [],
      "collapsed_sections": [],
      "include_colab_link": true
    },
    "kernelspec": {
      "display_name": "Python 3",
      "language": "python",
      "name": "python3"
    },
    "language_info": {
      "codemirror_mode": {
        "name": "ipython",
        "version": 3
      },
      "file_extension": ".py",
      "mimetype": "text/x-python",
      "name": "python",
      "nbconvert_exporter": "python",
      "pygments_lexer": "ipython3",
      "version": "3.7.4"
    }
  },
  "cells": [
    {
      "cell_type": "markdown",
      "metadata": {
        "id": "view-in-github",
        "colab_type": "text"
      },
      "source": [
        "<a href=\"https://colab.research.google.com/github/yimjohns/Optimization-Crashcourse-RECIPES/blob/NonLinearProgramming/NLPCrashCourse.ipynb\" target=\"_parent\"><img src=\"https://colab.research.google.com/assets/colab-badge.svg\" alt=\"Open In Colab\"/></a>"
      ]
    },
    {
      "cell_type": "markdown",
      "metadata": {
        "id": "rexAkdVI4PxA",
        "nbpages": {
          "level": 0,
          "link": "[](https://jckantor.github.io/ND-Pyomo-Cookbook/02.01-Production-Models-with-Linear-Constraints.html)",
          "section": ""
        },
        "pycharm": {}
      },
      "source": [
        "\n",
        "\n",
        "<!--NOTEBOOK_HEADER-->\n",
        "*This notebook is modified from [ND-Pyomo-Cookbook](https://jckantor.github.io/ND-Pyomo-Cookbook);\n",
        "content is available [on Github](https://github.com/jckantor/ND-Pyomo-Cookbook.git).*\n",
        "\n",
        "*Modified by Johnson*"
      ]
    },
    {
      "cell_type": "markdown",
      "metadata": {
        "id": "SRXossXvecIC",
        "nbpages": {
          "level": 1,
          "link": "[2.1 Production Models with Linear Constraints](https://jckantor.github.io/ND-Pyomo-Cookbook/02.01-Production-Models-with-Linear-Constraints.html#2.1-Production-Models-with-Linear-Constraints)",
          "section": "2.1 Production Models with Linear Constraints"
        },
        "pycharm": {}
      },
      "source": [
        "##Nonlinear Programming Example"
      ]
    },
    {
      "cell_type": "code",
      "metadata": {
        "id": "2JKaLcN8edkz",
        "nbpages": {
          "level": 2,
          "link": "[2.1.1 Imports](https://jckantor.github.io/ND-Pyomo-Cookbook/02.01-Production-Models-with-Linear-Constraints.html#2.1.1-Imports)",
          "section": "2.1.1 Imports"
        },
        "pycharm": {}
      },
      "source": [
        "#Don't edit this cell, you can just run it. It loads Pyomo and then analyzes the results.\n",
        "%matplotlib inline\n",
        "import matplotlib.pyplot as plt\n",
        "import numpy as np\n",
        "\n",
        "import shutil\n",
        "import sys\n",
        "import os.path\n",
        "\n",
        "if not shutil.which(\"pyomo\"):\n",
        "    !pip install -q pyomo\n",
        "    assert(shutil.which(\"pyomo\"))\n",
        "\n",
        "# If I press \"Ctrl\" and \"/\" at the same time, all these lines comment out so the software doesn't see them.\n",
        "# if not (shutil.which(\"cbc\") or os.path.isfile(\"cbc\")):\n",
        "#     if \"google.colab\" in sys.modules:\n",
        "#         !apt-get install -y -qq coinor-cbc\n",
        "#     else:\n",
        "#         try:\n",
        "#             !conda install -c conda-forge coincbc \n",
        "#         except:\n",
        "#             pass\n",
        "\n",
        "# assert(shutil.which(\"cbc\") or os.path.isfile(\"cbc\"))\n",
        "\n",
        "#Install solver for nonlinear programs\n",
        "if not (shutil.which(\"ipopt\") or os.path.isfile(\"ipopt\")):\n",
        "    if \"google.colab\" in sys.modules:\n",
        "        !wget -N -q \"https://ampl.com/dl/open/ipopt/ipopt-linux64.zip\"\n",
        "        !unzip -o -q ipopt-linux64\n",
        "    else:\n",
        "        try:\n",
        "            !conda install -c conda-forge ipopt \n",
        "        except:\n",
        "            pass\n",
        "\n",
        "assert(shutil.which(\"ipopt\") or os.path.isfile(\"ipopt\"))\n",
        "\n",
        "from pyomo.environ import *"
      ],
      "execution_count": 27,
      "outputs": []
    },
    {
      "cell_type": "code",
      "metadata": {
        "id": "FLdRutwhecIN",
        "nbpages": {
          "level": 3,
          "link": "[2.1.2.1 Pyomo model](https://jckantor.github.io/ND-Pyomo-Cookbook/02.01-Production-Models-with-Linear-Constraints.html#2.1.2.1-Pyomo-model)",
          "section": "2.1.2.1 Pyomo model"
        },
        "pycharm": {},
        "colab": {
          "base_uri": "https://localhost:8080/"
        },
        "outputId": "a7340a9e-5b37-4f92-fa14-82c0e3593086"
      },
      "source": [
        "model = ConcreteModel()\n",
        "\n",
        "# declare decision variables\n",
        "#We declare x which is greater than or equal to 0 and a real number (e.g., can take decimal values)\n",
        "model.x = Var(domain=Reals, initialize = np.pi/2)\n",
        "\n",
        "# declare objective\n",
        "# model.obj = Objective(\n",
        "    # Objective function from example\n",
        "#    expr = model.x**2,\n",
        "#    sense = minimize)\n",
        "\n",
        "model.obj = Objective(\n",
        "    # Objective function from example\n",
        "    expr = sin(model.x),\n",
        "    sense = minimize)\n",
        "\n",
        "\n",
        "\n",
        "# declare constraints\n",
        "model.lower = Constraint(expr = model.x >= 0)\n",
        "model.upper = Constraint(expr = model.x <= 4*np.pi)\n",
        "\n",
        "# Choosing an optimization solver\n",
        "SolverFactory('ipopt').solve(model).write()"
      ],
      "execution_count": 33,
      "outputs": [
        {
          "output_type": "stream",
          "name": "stdout",
          "text": [
            "# ==========================================================\n",
            "# = Solver Results                                         =\n",
            "# ==========================================================\n",
            "# ----------------------------------------------------------\n",
            "#   Problem Information\n",
            "# ----------------------------------------------------------\n",
            "Problem: \n",
            "- Lower bound: -inf\n",
            "  Upper bound: inf\n",
            "  Number of objectives: 1\n",
            "  Number of constraints: 2\n",
            "  Number of variables: 1\n",
            "  Sense: unknown\n",
            "# ----------------------------------------------------------\n",
            "#   Solver Information\n",
            "# ----------------------------------------------------------\n",
            "Solver: \n",
            "- Status: ok\n",
            "  Message: Ipopt 3.12.13\\x3a Optimal Solution Found\n",
            "  Termination condition: optimal\n",
            "  Id: 0\n",
            "  Error rc: 0\n",
            "  Time: 0.02613043785095215\n",
            "# ----------------------------------------------------------\n",
            "#   Solution Information\n",
            "# ----------------------------------------------------------\n",
            "Solution: \n",
            "- number of solutions: 0\n",
            "  number of solutions displayed: 0\n"
          ]
        }
      ]
    },
    {
      "cell_type": "code",
      "metadata": {
        "id": "kvGCRiwMecIW",
        "nbpages": {
          "level": 3,
          "link": "[2.1.2.1 Pyomo model](https://jckantor.github.io/ND-Pyomo-Cookbook/02.01-Production-Models-with-Linear-Constraints.html#2.1.2.1-Pyomo-model)",
          "section": "2.1.2.1 Pyomo model"
        },
        "pycharm": {},
        "colab": {
          "base_uri": "https://localhost:8080/"
        },
        "outputId": "545527b7-0dac-4ed1-f40a-1b0346d66714"
      },
      "source": [
        "print(\"Objective Function Minimum = \", model.obj())\n",
        "print(\"X = \", model.x(), \" (solution)\")"
      ],
      "execution_count": 34,
      "outputs": [
        {
          "output_type": "stream",
          "name": "stdout",
          "text": [
            "Objective Function Minimum =  -1.0\n",
            "X =  4.7123889805974155  (solution)\n"
          ]
        }
      ]
    }
  ]
}